{
 "cells": [
  {
   "cell_type": "markdown",
   "id": "26e8bfbc-b4a7-48a7-b85e-e2755bb52952",
   "metadata": {},
   "source": [
    "# Квантовый оптимальный контроль для эффективного Гамильтониана"
   ]
  },
  {
   "cell_type": "markdown",
   "id": "65d1160b-9a82-4c9d-9e4e-25424b157d48",
   "metadata": {},
   "source": [
    "Daniel Rosseau Qianqian Ha and Tim Byrnes, Phys.Rev.A 90, 052315 (2014)"
   ]
  },
  {
   "cell_type": "markdown",
   "id": "25efd645-7375-4bab-82b3-b14006768f62",
   "metadata": {},
   "source": [
    "$$ \n",
    "H \n",
    "    = \\frac{ H_\\mathrm{ eff } }{ \\Omega } \n",
    "    = \\frac{ \\omega }{ \\Omega } \\underbrace{ \\left( S^z_1 +  S^z_2 \\right) }_{ H_\\mathrm{ control } }\n",
    "    - \\underbrace{ \\left( \n",
    "        S^z_1 S^z_2 \n",
    "        + \\frac{ \\left( S^z_1 \\right)^2 }{ 2 }\n",
    "        + \\frac{ \\left( S^z_2 \\right)^2 }{ 2 }\n",
    "    \\right) }_{ H_\\mathrm{ drift } }\n",
    "$$\n",
    "\n"
   ]
  },
  {
   "cell_type": "code",
   "execution_count": 1,
   "id": "d701403f-0874-4275-9dab-c87937f12bc5",
   "metadata": {},
   "outputs": [],
   "source": [
    "import math\n",
    "\n",
    "import matplotlib.pyplot as plt\n",
    "import numpy as np\n",
    "import qutip\n",
    "from qutip.control.pulseoptim import create_pulse_optimizer, optimize_pulse"
   ]
  },
  {
   "cell_type": "code",
   "execution_count": 2,
   "id": "3c37e07b-f7aa-4fd4-ae17-79ce4f12d643",
   "metadata": {},
   "outputs": [],
   "source": [
    "import pathlib, sys\n",
    "\n",
    "sys.path.append(str(pathlib.Path(sys.path[0]).parent / \"libs\"))"
   ]
  },
  {
   "cell_type": "code",
   "execution_count": 3,
   "id": "065f6b14-c95e-4def-b070-1d94a9e77416",
   "metadata": {},
   "outputs": [],
   "source": [
    "%reload_ext autoreload\n",
    "%autoreload 2\n",
    "\n",
    "import bec\n",
    "from tools.jupyter import print_model_info"
   ]
  },
  {
   "cell_type": "code",
   "execution_count": 4,
   "id": "851690de-b821-437c-9d10-2dd5cc1aa3a2",
   "metadata": {},
   "outputs": [
    {
     "name": "stdout",
     "output_type": "stream",
     "text": [
      "BEC_Qubits(n_bosons=3, coupling_strength=1, transition_ampl=1, transition_freq=11, resonance_freq=1, phase=0, excitation_level=False)\n"
     ]
    },
    {
     "data": {
      "text/latex": [
       "$\\displaystyle G = 1.000e+00\\mbox{ (Coupling strength)}$"
      ],
      "text/plain": [
       "<IPython.core.display.Math object>"
      ]
     },
     "metadata": {},
     "output_type": "display_data"
    },
    {
     "data": {
      "text/latex": [
       "$\\displaystyle \\Delta = 1.000e+01$"
      ],
      "text/plain": [
       "<IPython.core.display.Math object>"
      ]
     },
     "metadata": {},
     "output_type": "display_data"
    },
    {
     "data": {
      "text/latex": [
       "$\\displaystyle \\frac{G^2}{\\Delta} = 1e-01$"
      ],
      "text/plain": [
       "<IPython.core.display.Math object>"
      ]
     },
     "metadata": {},
     "output_type": "display_data"
    },
    {
     "data": {
      "text/latex": [
       "$\\displaystyle \\frac \\Delta G = 1e+01 \\gg 1$"
      ],
      "text/plain": [
       "<IPython.core.display.Math object>"
      ]
     },
     "metadata": {},
     "output_type": "display_data"
    },
    {
     "data": {
      "text/latex": [
       "$\\displaystyle \\Omega = 0.0005$"
      ],
      "text/plain": [
       "<IPython.core.display.Math object>"
      ]
     },
     "metadata": {},
     "output_type": "display_data"
    },
    {
     "name": "stdout",
     "output_type": "stream",
     "text": [
      "omega = 0.05075\n",
      "omega / Omega = 101.5\n"
     ]
    }
   ],
   "source": [
    "N_BOSONS = 3\n",
    "PHASE = 0  # np.pi / 4\n",
    "model_default = bec.BEC_Qubits.init_default(n_bosons=N_BOSONS, phase=PHASE)\n",
    "\n",
    "\n",
    "def omega(m):\n",
    "    return m.g**2 / 2 / m.delta + m.Omega * m.n_bosons / 2\n",
    "\n",
    "\n",
    "print_model_info(model_default)\n",
    "print(\"omega =\", omega(model_default))\n",
    "print(\"omega / Omega =\", omega(model_default) / model_default.Omega)"
   ]
  },
  {
   "cell_type": "code",
   "execution_count": 5,
   "id": "35e6f286-a643-4a60-a7c2-9accb00f39e1",
   "metadata": {},
   "outputs": [],
   "source": [
    "def h_drift(m):\n",
    "    return (\n",
    "        bec.sz(m, n=2, k=0) * bec.sz(m, n=2, k=1)\n",
    "        + bec.sz(m, n=2, k=0) ** 2 / 2\n",
    "        + bec.sz(m, n=2, k=1) ** 2 / 2\n",
    "    )"
   ]
  },
  {
   "cell_type": "markdown",
   "id": "04614c34-6d2c-4e69-9199-34bb276aa84e",
   "metadata": {},
   "source": [
    "[Quantum Optimal Control with Qutip](https://qutip.org/docs/latest/guide/guide-control.html)\n",
    "\n",
    "$$ H(t) = H_0 + \\alpha(t) H_1 + \\beta(t) H_2 $$"
   ]
  },
  {
   "cell_type": "code",
   "execution_count": 6,
   "id": "0bda9075-899f-48f5-acb6-de2334143c4d",
   "metadata": {},
   "outputs": [],
   "source": [
    "model = model_default\n",
    "\n",
    "H0 = h_drift(model)\n",
    "H1 = bec.sz(model, n=2, k=0)\n",
    "H2 = bec.sz(model, n=2, k=1)"
   ]
  },
  {
   "cell_type": "code",
   "execution_count": 7,
   "id": "dd8051f6-e47e-4802-b547-80381bbb3404",
   "metadata": {},
   "outputs": [],
   "source": [
    "psi_initial = (\n",
    "    bec.coherent_state_constructor(model, n=2, k=0)\n",
    "    * bec.coherent_state_constructor(model, 2, 1, math.sqrt(1 / 10), math.sqrt(9 / 10))\n",
    "    * bec.vacuum_state(model, n=2)\n",
    ")"
   ]
  },
  {
   "cell_type": "code",
   "execution_count": 8,
   "id": "aefa22ef-1eb5-4e2c-bed0-d8ffcc346225",
   "metadata": {},
   "outputs": [],
   "source": [
    "def states_under_hzz_teor(t):\n",
    "    \"\"\"\n",
    "    Эволюционные состояния (теория) системы двух кубитов, с начальным суперпозиционным состоянием.\n",
    "    \"\"\"\n",
    "\n",
    "    def alpha(k, t):\n",
    "        return np.exp(1j * (model.n_bosons - 2 * k) * model.Omega * t) / math.sqrt(2)\n",
    "\n",
    "    def beta(k, t):\n",
    "        return alpha(k, t).conjugate()\n",
    "\n",
    "    return sum(\n",
    "        (\n",
    "            math.sqrt(math.comb(model.n_bosons, k))\n",
    "            * bec.coherent_state_constructor(model, 2, 0, alpha(k, t), beta(k, t))\n",
    "            * bec.fock_state_constructor(model, 2, 1, k)\n",
    "            * bec.vacuum_state(model)\n",
    "        )\n",
    "        for k in range(model.n_bosons + 1)\n",
    "    ) / math.sqrt(2**model.n_bosons)"
   ]
  },
  {
   "cell_type": "code",
   "execution_count": 9,
   "id": "57745720-9261-411d-b867-de26e13230ab",
   "metadata": {},
   "outputs": [],
   "source": [
    "psi_target = states_under_hzz_teor(2 / model.Omega)"
   ]
  },
  {
   "cell_type": "code",
   "execution_count": 10,
   "id": "da5fbebf-4d36-486d-86c2-14ef10ec027b",
   "metadata": {},
   "outputs": [
    {
     "data": {
      "text/plain": [
       "1.1420491198826328"
      ]
     },
     "execution_count": 10,
     "metadata": {},
     "output_type": "execute_result"
    }
   ],
   "source": [
    "qutip.entropy_vn(qutip.ptrace(psi_target, [0, 1]))"
   ]
  },
  {
   "cell_type": "code",
   "execution_count": 11,
   "id": "2ff292a1-fb20-4599-87ab-8476ae0bb7f5",
   "metadata": {},
   "outputs": [],
   "source": [
    "nt = 100\n",
    "t_total = 2 / model.Omega"
   ]
  },
  {
   "cell_type": "code",
   "execution_count": 12,
   "id": "fb8b4f70-c5d1-43b0-9e1e-22ca45af06ff",
   "metadata": {},
   "outputs": [
    {
     "name": "stderr",
     "output_type": "stream",
     "text": [
      "/Users/kephircheek/venvs/science/emqwuqoc-dev/lib/python3.11/site-packages/scipy/linalg/_expm_frechet.py:277: RuntimeWarning: overflow encountered in add\n",
      "  L = np.dot(R, L) + np.dot(L, R)\n"
     ]
    },
    {
     "ename": "ValueError",
     "evalue": "array must not contain infs or NaNs",
     "output_type": "error",
     "traceback": [
      "\u001b[0;31m---------------------------------------------------------------------------\u001b[0m",
      "\u001b[0;31mValueError\u001b[0m                                Traceback (most recent call last)",
      "File \u001b[0;32m<timed exec>:13\u001b[0m\n",
      "File \u001b[0;32m~/venvs/science/emqwuqoc-dev/lib/python3.11/site-packages/qutip/control/pulseoptim.py:462\u001b[0m, in \u001b[0;36moptimize_pulse\u001b[0;34m(drift, ctrls, initial, target, num_tslots, evo_time, tau, amp_lbound, amp_ubound, fid_err_targ, min_grad, max_iter, max_wall_time, alg, alg_params, optim_params, optim_method, method_params, optim_alg, max_metric_corr, accuracy_factor, dyn_type, dyn_params, prop_type, prop_params, fid_type, fid_params, phase_option, fid_err_scale_factor, tslot_type, tslot_params, amp_update_mode, init_pulse_type, init_pulse_params, pulse_scaling, pulse_offset, ramping_pulse_type, ramping_pulse_params, log_level, out_file_ext, gen_stats)\u001b[0m\n\u001b[1;32m    459\u001b[0m         logger\u001b[38;5;241m.\u001b[39minfo(\u001b[38;5;124m\"\u001b[39m\u001b[38;5;124mInitial amplitudes output to file: \u001b[39m\u001b[38;5;124m\"\u001b[39m \u001b[38;5;241m+\u001b[39m pulsefile)\n\u001b[1;32m    461\u001b[0m \u001b[38;5;66;03m# Start the optimisation\u001b[39;00m\n\u001b[0;32m--> 462\u001b[0m result \u001b[38;5;241m=\u001b[39m \u001b[43moptim\u001b[49m\u001b[38;5;241;43m.\u001b[39;49m\u001b[43mrun_optimization\u001b[49m\u001b[43m(\u001b[49m\u001b[43m)\u001b[49m\n\u001b[1;32m    464\u001b[0m \u001b[38;5;28;01mif\u001b[39;00m out_file_ext \u001b[38;5;129;01mis\u001b[39;00m \u001b[38;5;129;01mnot\u001b[39;00m \u001b[38;5;28;01mNone\u001b[39;00m:\n\u001b[1;32m    465\u001b[0m     \u001b[38;5;66;03m# Save final amplitudes to a text file\u001b[39;00m\n\u001b[1;32m    466\u001b[0m     pulsefile \u001b[38;5;241m=\u001b[39m \u001b[38;5;124m\"\u001b[39m\u001b[38;5;124mctrl_amps_final_\u001b[39m\u001b[38;5;124m\"\u001b[39m \u001b[38;5;241m+\u001b[39m out_file_ext\n",
      "File \u001b[0;32m~/venvs/science/emqwuqoc-dev/lib/python3.11/site-packages/qutip/control/optimizer.py:990\u001b[0m, in \u001b[0;36mOptimizerLBFGSB.run_optimization\u001b[0;34m(self, term_conds)\u001b[0m\n\u001b[1;32m    988\u001b[0m     logger\u001b[38;5;241m.\u001b[39minfo(msg)\n\u001b[1;32m    989\u001b[0m \u001b[38;5;28;01mtry\u001b[39;00m:\n\u001b[0;32m--> 990\u001b[0m     optim_var_vals, fid, res_dict \u001b[38;5;241m=\u001b[39m \u001b[43mfmin_l_bfgs_b\u001b[49m\u001b[43m(\u001b[49m\n\u001b[1;32m    991\u001b[0m \u001b[43m        \u001b[49m\u001b[38;5;28;43mself\u001b[39;49m\u001b[38;5;241;43m.\u001b[39;49m\u001b[43mfid_err_func_wrapper\u001b[49m\u001b[43m,\u001b[49m\u001b[43m \u001b[49m\u001b[38;5;28;43mself\u001b[39;49m\u001b[38;5;241;43m.\u001b[39;49m\u001b[43moptim_var_vals\u001b[49m\u001b[43m,\u001b[49m\n\u001b[1;32m    992\u001b[0m \u001b[43m        \u001b[49m\u001b[43mfprime\u001b[49m\u001b[38;5;241;43m=\u001b[39;49m\u001b[43mfprime\u001b[49m\u001b[43m,\u001b[49m\n\u001b[1;32m    993\u001b[0m \u001b[43m        \u001b[49m\u001b[43mapprox_grad\u001b[49m\u001b[38;5;241;43m=\u001b[39;49m\u001b[38;5;28;43mself\u001b[39;49m\u001b[38;5;241;43m.\u001b[39;49m\u001b[43mapprox_grad\u001b[49m\u001b[43m,\u001b[49m\n\u001b[1;32m    994\u001b[0m \u001b[43m        \u001b[49m\u001b[43mcallback\u001b[49m\u001b[38;5;241;43m=\u001b[39;49m\u001b[38;5;28;43mself\u001b[39;49m\u001b[38;5;241;43m.\u001b[39;49m\u001b[43miter_step_callback_func\u001b[49m\u001b[43m,\u001b[49m\n\u001b[1;32m    995\u001b[0m \u001b[43m        \u001b[49m\u001b[43mbounds\u001b[49m\u001b[38;5;241;43m=\u001b[39;49m\u001b[38;5;28;43mself\u001b[39;49m\u001b[38;5;241;43m.\u001b[39;49m\u001b[43mbounds\u001b[49m\u001b[43m,\u001b[49m\u001b[43m \u001b[49m\u001b[43mm\u001b[49m\u001b[38;5;241;43m=\u001b[39;49m\u001b[43mm\u001b[49m\u001b[43m,\u001b[49m\u001b[43m \u001b[49m\u001b[43mfactr\u001b[49m\u001b[38;5;241;43m=\u001b[39;49m\u001b[43mfactr\u001b[49m\u001b[43m,\u001b[49m\n\u001b[1;32m    996\u001b[0m \u001b[43m        \u001b[49m\u001b[43mpgtol\u001b[49m\u001b[38;5;241;43m=\u001b[39;49m\u001b[43mterm_conds\u001b[49m\u001b[38;5;241;43m.\u001b[39;49m\u001b[43mmin_gradient_norm\u001b[49m\u001b[43m,\u001b[49m\n\u001b[1;32m    997\u001b[0m \u001b[43m        \u001b[49m\u001b[43mdisp\u001b[49m\u001b[38;5;241;43m=\u001b[39;49m\u001b[38;5;28;43mself\u001b[39;49m\u001b[38;5;241;43m.\u001b[39;49m\u001b[43mmsg_level\u001b[49m\u001b[43m,\u001b[49m\n\u001b[1;32m    998\u001b[0m \u001b[43m        \u001b[49m\u001b[43mmaxfun\u001b[49m\u001b[38;5;241;43m=\u001b[39;49m\u001b[43mterm_conds\u001b[49m\u001b[38;5;241;43m.\u001b[39;49m\u001b[43mmax_fid_func_calls\u001b[49m\u001b[43m,\u001b[49m\n\u001b[1;32m    999\u001b[0m \u001b[43m        \u001b[49m\u001b[43mmaxiter\u001b[49m\u001b[38;5;241;43m=\u001b[39;49m\u001b[43mterm_conds\u001b[49m\u001b[38;5;241;43m.\u001b[39;49m\u001b[43mmax_iterations\u001b[49m\u001b[43m)\u001b[49m\n\u001b[1;32m   1001\u001b[0m     amps \u001b[38;5;241m=\u001b[39m \u001b[38;5;28mself\u001b[39m\u001b[38;5;241m.\u001b[39m_get_ctrl_amps(optim_var_vals)\n\u001b[1;32m   1002\u001b[0m     dyn\u001b[38;5;241m.\u001b[39mupdate_ctrl_amps(amps)\n",
      "File \u001b[0;32m~/venvs/science/emqwuqoc-dev/lib/python3.11/site-packages/scipy/optimize/_lbfgsb_py.py:197\u001b[0m, in \u001b[0;36mfmin_l_bfgs_b\u001b[0;34m(func, x0, fprime, args, approx_grad, bounds, m, factr, pgtol, epsilon, iprint, maxfun, maxiter, disp, callback, maxls)\u001b[0m\n\u001b[1;32m    185\u001b[0m \u001b[38;5;66;03m# build options\u001b[39;00m\n\u001b[1;32m    186\u001b[0m opts \u001b[38;5;241m=\u001b[39m {\u001b[38;5;124m'\u001b[39m\u001b[38;5;124mdisp\u001b[39m\u001b[38;5;124m'\u001b[39m: disp,\n\u001b[1;32m    187\u001b[0m         \u001b[38;5;124m'\u001b[39m\u001b[38;5;124miprint\u001b[39m\u001b[38;5;124m'\u001b[39m: iprint,\n\u001b[1;32m    188\u001b[0m         \u001b[38;5;124m'\u001b[39m\u001b[38;5;124mmaxcor\u001b[39m\u001b[38;5;124m'\u001b[39m: m,\n\u001b[0;32m   (...)\u001b[0m\n\u001b[1;32m    194\u001b[0m         \u001b[38;5;124m'\u001b[39m\u001b[38;5;124mcallback\u001b[39m\u001b[38;5;124m'\u001b[39m: callback,\n\u001b[1;32m    195\u001b[0m         \u001b[38;5;124m'\u001b[39m\u001b[38;5;124mmaxls\u001b[39m\u001b[38;5;124m'\u001b[39m: maxls}\n\u001b[0;32m--> 197\u001b[0m res \u001b[38;5;241m=\u001b[39m \u001b[43m_minimize_lbfgsb\u001b[49m\u001b[43m(\u001b[49m\u001b[43mfun\u001b[49m\u001b[43m,\u001b[49m\u001b[43m \u001b[49m\u001b[43mx0\u001b[49m\u001b[43m,\u001b[49m\u001b[43m \u001b[49m\u001b[43margs\u001b[49m\u001b[38;5;241;43m=\u001b[39;49m\u001b[43margs\u001b[49m\u001b[43m,\u001b[49m\u001b[43m \u001b[49m\u001b[43mjac\u001b[49m\u001b[38;5;241;43m=\u001b[39;49m\u001b[43mjac\u001b[49m\u001b[43m,\u001b[49m\u001b[43m \u001b[49m\u001b[43mbounds\u001b[49m\u001b[38;5;241;43m=\u001b[39;49m\u001b[43mbounds\u001b[49m\u001b[43m,\u001b[49m\n\u001b[1;32m    198\u001b[0m \u001b[43m                       \u001b[49m\u001b[38;5;241;43m*\u001b[39;49m\u001b[38;5;241;43m*\u001b[39;49m\u001b[43mopts\u001b[49m\u001b[43m)\u001b[49m\n\u001b[1;32m    199\u001b[0m d \u001b[38;5;241m=\u001b[39m {\u001b[38;5;124m'\u001b[39m\u001b[38;5;124mgrad\u001b[39m\u001b[38;5;124m'\u001b[39m: res[\u001b[38;5;124m'\u001b[39m\u001b[38;5;124mjac\u001b[39m\u001b[38;5;124m'\u001b[39m],\n\u001b[1;32m    200\u001b[0m      \u001b[38;5;124m'\u001b[39m\u001b[38;5;124mtask\u001b[39m\u001b[38;5;124m'\u001b[39m: res[\u001b[38;5;124m'\u001b[39m\u001b[38;5;124mmessage\u001b[39m\u001b[38;5;124m'\u001b[39m],\n\u001b[1;32m    201\u001b[0m      \u001b[38;5;124m'\u001b[39m\u001b[38;5;124mfuncalls\u001b[39m\u001b[38;5;124m'\u001b[39m: res[\u001b[38;5;124m'\u001b[39m\u001b[38;5;124mnfev\u001b[39m\u001b[38;5;124m'\u001b[39m],\n\u001b[1;32m    202\u001b[0m      \u001b[38;5;124m'\u001b[39m\u001b[38;5;124mnit\u001b[39m\u001b[38;5;124m'\u001b[39m: res[\u001b[38;5;124m'\u001b[39m\u001b[38;5;124mnit\u001b[39m\u001b[38;5;124m'\u001b[39m],\n\u001b[1;32m    203\u001b[0m      \u001b[38;5;124m'\u001b[39m\u001b[38;5;124mwarnflag\u001b[39m\u001b[38;5;124m'\u001b[39m: res[\u001b[38;5;124m'\u001b[39m\u001b[38;5;124mstatus\u001b[39m\u001b[38;5;124m'\u001b[39m]}\n\u001b[1;32m    204\u001b[0m f \u001b[38;5;241m=\u001b[39m res[\u001b[38;5;124m'\u001b[39m\u001b[38;5;124mfun\u001b[39m\u001b[38;5;124m'\u001b[39m]\n",
      "File \u001b[0;32m~/venvs/science/emqwuqoc-dev/lib/python3.11/site-packages/scipy/optimize/_lbfgsb_py.py:359\u001b[0m, in \u001b[0;36m_minimize_lbfgsb\u001b[0;34m(fun, x0, args, jac, bounds, disp, maxcor, ftol, gtol, eps, maxfun, maxiter, iprint, callback, maxls, finite_diff_rel_step, **unknown_options)\u001b[0m\n\u001b[1;32m    353\u001b[0m task_str \u001b[38;5;241m=\u001b[39m task\u001b[38;5;241m.\u001b[39mtobytes()\n\u001b[1;32m    354\u001b[0m \u001b[38;5;28;01mif\u001b[39;00m task_str\u001b[38;5;241m.\u001b[39mstartswith(\u001b[38;5;124mb\u001b[39m\u001b[38;5;124m'\u001b[39m\u001b[38;5;124mFG\u001b[39m\u001b[38;5;124m'\u001b[39m):\n\u001b[1;32m    355\u001b[0m     \u001b[38;5;66;03m# The minimization routine wants f and g at the current x.\u001b[39;00m\n\u001b[1;32m    356\u001b[0m     \u001b[38;5;66;03m# Note that interruptions due to maxfun are postponed\u001b[39;00m\n\u001b[1;32m    357\u001b[0m     \u001b[38;5;66;03m# until the completion of the current minimization iteration.\u001b[39;00m\n\u001b[1;32m    358\u001b[0m     \u001b[38;5;66;03m# Overwrite f and g:\u001b[39;00m\n\u001b[0;32m--> 359\u001b[0m     f, g \u001b[38;5;241m=\u001b[39m \u001b[43mfunc_and_grad\u001b[49m\u001b[43m(\u001b[49m\u001b[43mx\u001b[49m\u001b[43m)\u001b[49m\n\u001b[1;32m    360\u001b[0m \u001b[38;5;28;01melif\u001b[39;00m task_str\u001b[38;5;241m.\u001b[39mstartswith(\u001b[38;5;124mb\u001b[39m\u001b[38;5;124m'\u001b[39m\u001b[38;5;124mNEW_X\u001b[39m\u001b[38;5;124m'\u001b[39m):\n\u001b[1;32m    361\u001b[0m     \u001b[38;5;66;03m# new iteration\u001b[39;00m\n\u001b[1;32m    362\u001b[0m     n_iterations \u001b[38;5;241m+\u001b[39m\u001b[38;5;241m=\u001b[39m \u001b[38;5;241m1\u001b[39m\n",
      "File \u001b[0;32m~/venvs/science/emqwuqoc-dev/lib/python3.11/site-packages/scipy/optimize/_differentiable_functions.py:285\u001b[0m, in \u001b[0;36mScalarFunction.fun_and_grad\u001b[0;34m(self, x)\u001b[0m\n\u001b[1;32m    283\u001b[0m \u001b[38;5;28;01mif\u001b[39;00m \u001b[38;5;129;01mnot\u001b[39;00m np\u001b[38;5;241m.\u001b[39marray_equal(x, \u001b[38;5;28mself\u001b[39m\u001b[38;5;241m.\u001b[39mx):\n\u001b[1;32m    284\u001b[0m     \u001b[38;5;28mself\u001b[39m\u001b[38;5;241m.\u001b[39m_update_x_impl(x)\n\u001b[0;32m--> 285\u001b[0m \u001b[38;5;28;43mself\u001b[39;49m\u001b[38;5;241;43m.\u001b[39;49m\u001b[43m_update_fun\u001b[49m\u001b[43m(\u001b[49m\u001b[43m)\u001b[49m\n\u001b[1;32m    286\u001b[0m \u001b[38;5;28mself\u001b[39m\u001b[38;5;241m.\u001b[39m_update_grad()\n\u001b[1;32m    287\u001b[0m \u001b[38;5;28;01mreturn\u001b[39;00m \u001b[38;5;28mself\u001b[39m\u001b[38;5;241m.\u001b[39mf, \u001b[38;5;28mself\u001b[39m\u001b[38;5;241m.\u001b[39mg\n",
      "File \u001b[0;32m~/venvs/science/emqwuqoc-dev/lib/python3.11/site-packages/scipy/optimize/_differentiable_functions.py:251\u001b[0m, in \u001b[0;36mScalarFunction._update_fun\u001b[0;34m(self)\u001b[0m\n\u001b[1;32m    249\u001b[0m \u001b[38;5;28;01mdef\u001b[39;00m \u001b[38;5;21m_update_fun\u001b[39m(\u001b[38;5;28mself\u001b[39m):\n\u001b[1;32m    250\u001b[0m     \u001b[38;5;28;01mif\u001b[39;00m \u001b[38;5;129;01mnot\u001b[39;00m \u001b[38;5;28mself\u001b[39m\u001b[38;5;241m.\u001b[39mf_updated:\n\u001b[0;32m--> 251\u001b[0m         \u001b[38;5;28;43mself\u001b[39;49m\u001b[38;5;241;43m.\u001b[39;49m\u001b[43m_update_fun_impl\u001b[49m\u001b[43m(\u001b[49m\u001b[43m)\u001b[49m\n\u001b[1;32m    252\u001b[0m         \u001b[38;5;28mself\u001b[39m\u001b[38;5;241m.\u001b[39mf_updated \u001b[38;5;241m=\u001b[39m \u001b[38;5;28;01mTrue\u001b[39;00m\n",
      "File \u001b[0;32m~/venvs/science/emqwuqoc-dev/lib/python3.11/site-packages/scipy/optimize/_differentiable_functions.py:155\u001b[0m, in \u001b[0;36mScalarFunction.__init__.<locals>.update_fun\u001b[0;34m()\u001b[0m\n\u001b[1;32m    154\u001b[0m \u001b[38;5;28;01mdef\u001b[39;00m \u001b[38;5;21mupdate_fun\u001b[39m():\n\u001b[0;32m--> 155\u001b[0m     \u001b[38;5;28mself\u001b[39m\u001b[38;5;241m.\u001b[39mf \u001b[38;5;241m=\u001b[39m \u001b[43mfun_wrapped\u001b[49m\u001b[43m(\u001b[49m\u001b[38;5;28;43mself\u001b[39;49m\u001b[38;5;241;43m.\u001b[39;49m\u001b[43mx\u001b[49m\u001b[43m)\u001b[49m\n",
      "File \u001b[0;32m~/venvs/science/emqwuqoc-dev/lib/python3.11/site-packages/scipy/optimize/_differentiable_functions.py:137\u001b[0m, in \u001b[0;36mScalarFunction.__init__.<locals>.fun_wrapped\u001b[0;34m(x)\u001b[0m\n\u001b[1;32m    133\u001b[0m \u001b[38;5;28mself\u001b[39m\u001b[38;5;241m.\u001b[39mnfev \u001b[38;5;241m+\u001b[39m\u001b[38;5;241m=\u001b[39m \u001b[38;5;241m1\u001b[39m\n\u001b[1;32m    134\u001b[0m \u001b[38;5;66;03m# Send a copy because the user may overwrite it.\u001b[39;00m\n\u001b[1;32m    135\u001b[0m \u001b[38;5;66;03m# Overwriting results in undefined behaviour because\u001b[39;00m\n\u001b[1;32m    136\u001b[0m \u001b[38;5;66;03m# fun(self.x) will change self.x, with the two no longer linked.\u001b[39;00m\n\u001b[0;32m--> 137\u001b[0m fx \u001b[38;5;241m=\u001b[39m \u001b[43mfun\u001b[49m\u001b[43m(\u001b[49m\u001b[43mnp\u001b[49m\u001b[38;5;241;43m.\u001b[39;49m\u001b[43mcopy\u001b[49m\u001b[43m(\u001b[49m\u001b[43mx\u001b[49m\u001b[43m)\u001b[49m\u001b[43m,\u001b[49m\u001b[43m \u001b[49m\u001b[38;5;241;43m*\u001b[39;49m\u001b[43margs\u001b[49m\u001b[43m)\u001b[49m\n\u001b[1;32m    138\u001b[0m \u001b[38;5;66;03m# Make sure the function returns a true scalar\u001b[39;00m\n\u001b[1;32m    139\u001b[0m \u001b[38;5;28;01mif\u001b[39;00m \u001b[38;5;129;01mnot\u001b[39;00m np\u001b[38;5;241m.\u001b[39misscalar(fx):\n",
      "File \u001b[0;32m~/venvs/science/emqwuqoc-dev/lib/python3.11/site-packages/qutip/control/optimizer.py:650\u001b[0m, in \u001b[0;36mOptimizer.fid_err_func_wrapper\u001b[0;34m(self, *args)\u001b[0m\n\u001b[1;32m    647\u001b[0m \u001b[38;5;28mself\u001b[39m\u001b[38;5;241m.\u001b[39mdynamics\u001b[38;5;241m.\u001b[39mupdate_ctrl_amps(amps)\n\u001b[1;32m    649\u001b[0m tc \u001b[38;5;241m=\u001b[39m \u001b[38;5;28mself\u001b[39m\u001b[38;5;241m.\u001b[39mtermination_conditions\n\u001b[0;32m--> 650\u001b[0m err \u001b[38;5;241m=\u001b[39m \u001b[38;5;28;43mself\u001b[39;49m\u001b[38;5;241;43m.\u001b[39;49m\u001b[43mdynamics\u001b[49m\u001b[38;5;241;43m.\u001b[39;49m\u001b[43mfid_computer\u001b[49m\u001b[38;5;241;43m.\u001b[39;49m\u001b[43mget_fid_err\u001b[49m\u001b[43m(\u001b[49m\u001b[43m)\u001b[49m\n\u001b[1;32m    652\u001b[0m \u001b[38;5;28;01mif\u001b[39;00m \u001b[38;5;28mself\u001b[39m\u001b[38;5;241m.\u001b[39miter_summary:\n\u001b[1;32m    653\u001b[0m     \u001b[38;5;28mself\u001b[39m\u001b[38;5;241m.\u001b[39miter_summary\u001b[38;5;241m.\u001b[39mfid_func_call_num \u001b[38;5;241m=\u001b[39m \u001b[38;5;28mself\u001b[39m\u001b[38;5;241m.\u001b[39mnum_fid_func_calls\n",
      "File \u001b[0;32m~/venvs/science/emqwuqoc-dev/lib/python3.11/site-packages/qutip/control/fidcomp.py:573\u001b[0m, in \u001b[0;36mFidCompTraceDiff.get_fid_err\u001b[0;34m(self)\u001b[0m\n\u001b[1;32m    571\u001b[0m \u001b[38;5;28;01mif\u001b[39;00m \u001b[38;5;129;01mnot\u001b[39;00m \u001b[38;5;28mself\u001b[39m\u001b[38;5;241m.\u001b[39mfidelity_current:\n\u001b[1;32m    572\u001b[0m     dyn \u001b[38;5;241m=\u001b[39m \u001b[38;5;28mself\u001b[39m\u001b[38;5;241m.\u001b[39mparent\n\u001b[0;32m--> 573\u001b[0m     \u001b[43mdyn\u001b[49m\u001b[38;5;241;43m.\u001b[39;49m\u001b[43mcompute_evolution\u001b[49m\u001b[43m(\u001b[49m\u001b[43m)\u001b[49m\n\u001b[1;32m    574\u001b[0m     n_ts \u001b[38;5;241m=\u001b[39m dyn\u001b[38;5;241m.\u001b[39mnum_tslots\n\u001b[1;32m    575\u001b[0m     evo_final \u001b[38;5;241m=\u001b[39m dyn\u001b[38;5;241m.\u001b[39m_fwd_evo[n_ts]\n",
      "File \u001b[0;32m~/venvs/science/emqwuqoc-dev/lib/python3.11/site-packages/qutip/control/dynamics.py:1379\u001b[0m, in \u001b[0;36mDynamics.compute_evolution\u001b[0;34m(self)\u001b[0m\n\u001b[1;32m   1377\u001b[0m \u001b[38;5;28;01mif\u001b[39;00m \u001b[38;5;28mself\u001b[39m\u001b[38;5;241m.\u001b[39mlog_level \u001b[38;5;241m<\u001b[39m\u001b[38;5;241m=\u001b[39m logging\u001b[38;5;241m.\u001b[39mDEBUG_VERBOSE:\n\u001b[1;32m   1378\u001b[0m     logger\u001b[38;5;241m.\u001b[39mlog(logging\u001b[38;5;241m.\u001b[39mDEBUG_VERBOSE, \u001b[38;5;124m\"\u001b[39m\u001b[38;5;124mComputing evolution\u001b[39m\u001b[38;5;124m\"\u001b[39m)\n\u001b[0;32m-> 1379\u001b[0m \u001b[38;5;28;43mself\u001b[39;49m\u001b[38;5;241;43m.\u001b[39;49m\u001b[43mtslot_computer\u001b[49m\u001b[38;5;241;43m.\u001b[39;49m\u001b[43mrecompute_evolution\u001b[49m\u001b[43m(\u001b[49m\u001b[43m)\u001b[49m\n\u001b[1;32m   1380\u001b[0m \u001b[38;5;28mself\u001b[39m\u001b[38;5;241m.\u001b[39mevo_current \u001b[38;5;241m=\u001b[39m \u001b[38;5;28;01mTrue\u001b[39;00m\n\u001b[1;32m   1381\u001b[0m \u001b[38;5;28;01mreturn\u001b[39;00m \u001b[38;5;28;01mTrue\u001b[39;00m\n",
      "File \u001b[0;32m~/venvs/science/emqwuqoc-dev/lib/python3.11/site-packages/qutip/control/tslotcomp.py:265\u001b[0m, in \u001b[0;36mTSlotCompUpdateAll.recompute_evolution\u001b[0;34m(self)\u001b[0m\n\u001b[1;32m    262\u001b[0m \u001b[38;5;28;01mfor\u001b[39;00m j \u001b[38;5;129;01min\u001b[39;00m \u001b[38;5;28mrange\u001b[39m(n_ctrls):\n\u001b[1;32m    263\u001b[0m     \u001b[38;5;28;01mif\u001b[39;00m j \u001b[38;5;241m==\u001b[39m \u001b[38;5;241m0\u001b[39m:\n\u001b[1;32m    264\u001b[0m         dyn\u001b[38;5;241m.\u001b[39m_prop[k], dyn\u001b[38;5;241m.\u001b[39m_prop_grad[k, j] \u001b[38;5;241m=\u001b[39m \\\n\u001b[0;32m--> 265\u001b[0m                     \u001b[43mprop_comp\u001b[49m\u001b[38;5;241;43m.\u001b[39;49m\u001b[43m_compute_prop_grad\u001b[49m\u001b[43m(\u001b[49m\u001b[43mk\u001b[49m\u001b[43m,\u001b[49m\u001b[43m \u001b[49m\u001b[43mj\u001b[49m\u001b[43m)\u001b[49m\n\u001b[1;32m    266\u001b[0m         \u001b[38;5;28;01mif\u001b[39;00m \u001b[38;5;28mself\u001b[39m\u001b[38;5;241m.\u001b[39mlog_level \u001b[38;5;241m<\u001b[39m\u001b[38;5;241m=\u001b[39m logging\u001b[38;5;241m.\u001b[39mDEBUG_INTENSE:\n\u001b[1;32m    267\u001b[0m             logger\u001b[38;5;241m.\u001b[39mlog(logging\u001b[38;5;241m.\u001b[39mDEBUG_INTENSE,\n\u001b[1;32m    268\u001b[0m                        \u001b[38;5;124m\"\u001b[39m\u001b[38;5;124mpropagator \u001b[39m\u001b[38;5;132;01m{}\u001b[39;00m\u001b[38;5;124m:\u001b[39m\u001b[38;5;130;01m\\n\u001b[39;00m\u001b[38;5;132;01m{:10.3g}\u001b[39;00m\u001b[38;5;124m\"\u001b[39m\u001b[38;5;241m.\u001b[39mformat(\n\u001b[1;32m    269\u001b[0m                            k, \u001b[38;5;28mself\u001b[39m\u001b[38;5;241m.\u001b[39m_prop[k]))\n",
      "File \u001b[0;32m~/venvs/science/emqwuqoc-dev/lib/python3.11/site-packages/qutip/control/propcomp.py:390\u001b[0m, in \u001b[0;36mPropCompFrechet._compute_prop_grad\u001b[0;34m(self, k, j, compute_prop)\u001b[0m\n\u001b[1;32m    388\u001b[0m E \u001b[38;5;241m=\u001b[39m dyn\u001b[38;5;241m.\u001b[39m_get_phased_ctrl_dyn_gen(k, j)\u001b[38;5;241m*\u001b[39mdyn\u001b[38;5;241m.\u001b[39mtau[k]\n\u001b[1;32m    389\u001b[0m \u001b[38;5;28;01mif\u001b[39;00m compute_prop:\n\u001b[0;32m--> 390\u001b[0m     prop, prop_grad \u001b[38;5;241m=\u001b[39m \u001b[43mla\u001b[49m\u001b[38;5;241;43m.\u001b[39;49m\u001b[43mexpm_frechet\u001b[49m\u001b[43m(\u001b[49m\u001b[43mA\u001b[49m\u001b[43m,\u001b[49m\u001b[43m \u001b[49m\u001b[43mE\u001b[49m\u001b[43m)\u001b[49m\n\u001b[1;32m    391\u001b[0m \u001b[38;5;28;01melse\u001b[39;00m:\n\u001b[1;32m    392\u001b[0m     prop_grad \u001b[38;5;241m=\u001b[39m la\u001b[38;5;241m.\u001b[39mexpm_frechet(A, E,\n\u001b[1;32m    393\u001b[0m                                         compute_expm\u001b[38;5;241m=\u001b[39m\u001b[38;5;28;01mFalse\u001b[39;00m)\n",
      "File \u001b[0;32m~/venvs/science/emqwuqoc-dev/lib/python3.11/site-packages/scipy/linalg/_expm_frechet.py:93\u001b[0m, in \u001b[0;36mexpm_frechet\u001b[0;34m(A, E, method, compute_expm, check_finite)\u001b[0m\n\u001b[1;32m      9\u001b[0m \u001b[38;5;250m\u001b[39m\u001b[38;5;124;03m\"\"\"\u001b[39;00m\n\u001b[1;32m     10\u001b[0m \u001b[38;5;124;03mFrechet derivative of the matrix exponential of A in the direction E.\u001b[39;00m\n\u001b[1;32m     11\u001b[0m \n\u001b[0;32m   (...)\u001b[0m\n\u001b[1;32m     90\u001b[0m \n\u001b[1;32m     91\u001b[0m \u001b[38;5;124;03m\"\"\"\u001b[39;00m\n\u001b[1;32m     92\u001b[0m \u001b[38;5;28;01mif\u001b[39;00m check_finite:\n\u001b[0;32m---> 93\u001b[0m     A \u001b[38;5;241m=\u001b[39m \u001b[43mnp\u001b[49m\u001b[38;5;241;43m.\u001b[39;49m\u001b[43masarray_chkfinite\u001b[49m\u001b[43m(\u001b[49m\u001b[43mA\u001b[49m\u001b[43m)\u001b[49m\n\u001b[1;32m     94\u001b[0m     E \u001b[38;5;241m=\u001b[39m np\u001b[38;5;241m.\u001b[39masarray_chkfinite(E)\n\u001b[1;32m     95\u001b[0m \u001b[38;5;28;01melse\u001b[39;00m:\n",
      "File \u001b[0;32m~/venvs/science/emqwuqoc-dev/lib/python3.11/site-packages/numpy/lib/function_base.py:628\u001b[0m, in \u001b[0;36masarray_chkfinite\u001b[0;34m(a, dtype, order)\u001b[0m\n\u001b[1;32m    626\u001b[0m a \u001b[38;5;241m=\u001b[39m asarray(a, dtype\u001b[38;5;241m=\u001b[39mdtype, order\u001b[38;5;241m=\u001b[39morder)\n\u001b[1;32m    627\u001b[0m \u001b[38;5;28;01mif\u001b[39;00m a\u001b[38;5;241m.\u001b[39mdtype\u001b[38;5;241m.\u001b[39mchar \u001b[38;5;129;01min\u001b[39;00m typecodes[\u001b[38;5;124m'\u001b[39m\u001b[38;5;124mAllFloat\u001b[39m\u001b[38;5;124m'\u001b[39m] \u001b[38;5;129;01mand\u001b[39;00m \u001b[38;5;129;01mnot\u001b[39;00m np\u001b[38;5;241m.\u001b[39misfinite(a)\u001b[38;5;241m.\u001b[39mall():\n\u001b[0;32m--> 628\u001b[0m     \u001b[38;5;28;01mraise\u001b[39;00m \u001b[38;5;167;01mValueError\u001b[39;00m(\n\u001b[1;32m    629\u001b[0m         \u001b[38;5;124m\"\u001b[39m\u001b[38;5;124marray must not contain infs or NaNs\u001b[39m\u001b[38;5;124m\"\u001b[39m)\n\u001b[1;32m    630\u001b[0m \u001b[38;5;28;01mreturn\u001b[39;00m a\n",
      "\u001b[0;31mValueError\u001b[0m: array must not contain infs or NaNs"
     ]
    }
   ],
   "source": [
    "%%time\n",
    "# Fidelity error target\n",
    "fid_err_targ = 1e-5\n",
    "# Maximum iterations for the optisation algorithm\n",
    "max_iter = 500\n",
    "# Maximum (elapsed) time allowed in seconds\n",
    "max_wall_time = 30\n",
    "# Minimum gradient (sum of gradients squared)\n",
    "# as this tends to 0 -> local minima has been found\n",
    "min_grad = 1e-10\n",
    "# pulse type alternatives: RND|ZERO|LIN|SINE|SQUARE|SAW|TRIANGLE|\n",
    "init_pulse_type = \"RND\"\n",
    "\n",
    "result = optimize_pulse(\n",
    "    H0,\n",
    "    [H1, H2],\n",
    "    psi_initial,\n",
    "    psi_target,\n",
    "    num_tslots=nt,\n",
    "    evo_time=t_total,\n",
    "    fid_err_targ=fid_err_targ,\n",
    "    max_iter=max_iter,\n",
    "    max_wall_time=max_wall_time,\n",
    "    min_grad=min_grad,\n",
    "    init_pulse_type=init_pulse_type,\n",
    "    # dyn_type='SYMPL',\n",
    "    gen_stats=True,\n",
    ")"
   ]
  },
  {
   "cell_type": "code",
   "execution_count": null,
   "id": "ff121407-5900-46d1-81db-e691d3258fee",
   "metadata": {},
   "outputs": [],
   "source": [
    "result.stats.report()"
   ]
  },
  {
   "cell_type": "code",
   "execution_count": null,
   "id": "ff832c54-d5f3-45de-8162-d5b7eef8bb23",
   "metadata": {},
   "outputs": [],
   "source": [
    "result.fidelity"
   ]
  }
 ],
 "metadata": {
  "kernelspec": {
   "display_name": "emqwuqoc-dev",
   "language": "python",
   "name": "emqwuqoc-dev"
  },
  "language_info": {
   "codemirror_mode": {
    "name": "ipython",
    "version": 3
   },
   "file_extension": ".py",
   "mimetype": "text/x-python",
   "name": "python",
   "nbconvert_exporter": "python",
   "pygments_lexer": "ipython3",
   "version": "3.11.5"
  }
 },
 "nbformat": 4,
 "nbformat_minor": 5
}
